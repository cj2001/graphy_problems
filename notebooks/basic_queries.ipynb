{
 "cells": [
  {
   "cell_type": "code",
   "execution_count": 1,
   "id": "80c3b10b-a6c8-4d8d-8f52-c03d1ee1a767",
   "metadata": {},
   "outputs": [],
   "source": [
    "import pandas as pd\n",
    "from neo4j import GraphDatabase"
   ]
  },
  {
   "cell_type": "markdown",
   "id": "055500ea-28ba-495d-93e6-90dcc2ef6cf2",
   "metadata": {},
   "source": [
    "## Connecting to a Sandbox Instance\n",
    "\n",
    "The following class will handle the connection and queries for us.  We will need to get the IP address of our Sandbox instance as well as the password and provide these in the subsequent cell.\n",
    "\n",
    "Prior to running this notebook you should have populated the database using the queries in `./cypher_queries/populate_db.cql`."
   ]
  },
  {
   "cell_type": "code",
   "execution_count": 2,
   "id": "0074b8e4-da62-4b4c-8c1a-7cdbd2c3ee66",
   "metadata": {},
   "outputs": [],
   "source": [
    "class Neo4jConnection:\n",
    "    \n",
    "    def __init__(self, uri, user, pwd):\n",
    "        self.__uri = uri\n",
    "        self.__user = user\n",
    "        self.__pwd = pwd\n",
    "        self.__driver = None\n",
    "        try:\n",
    "            self.__driver = GraphDatabase.driver(self.__uri, auth=(self.__user, self.__pwd))\n",
    "        except Exception as e:\n",
    "            print(\"Failed to create the driver:\", e)\n",
    "        \n",
    "    def close(self):\n",
    "        if self.__driver is not None:\n",
    "            self.__driver.close()\n",
    "        \n",
    "    def query(self, query, parameters=None, db=None):\n",
    "        assert self.__driver is not None, \"Driver not initialized!\"\n",
    "        session = None\n",
    "        response = None\n",
    "        try: \n",
    "            session = self.__driver.session(database=db) if db is not None else self.__driver.session() \n",
    "            response = list(session.run(query, parameters))\n",
    "        except Exception as e:\n",
    "            print(\"Query failed:\", e)\n",
    "        finally: \n",
    "            if session is not None:\n",
    "                session.close()\n",
    "        return response"
   ]
  },
  {
   "cell_type": "code",
   "execution_count": null,
   "id": "cea0e17d-49b3-4e36-9c76-cb0e33a30d3f",
   "metadata": {},
   "outputs": [],
   "source": [
    "uri = ''\n",
    "pwd = ''\n",
    "\n",
    "conn = Neo4jConnection(uri=uri, user=\"neo4j\", pwd=pwd)\n",
    "result = conn.query('MATCH (n) RETURN COUNT(n) AS count')\n",
    "\n",
    "print('One way to get results back: ', result)\n",
    "print('Another way: ', result[0]['count'])"
   ]
  },
  {
   "cell_type": "markdown",
   "id": "35113d23-29ae-4046-bb42-038cb032b9a1",
   "metadata": {},
   "source": [
    "### Now let's count the number of relationships..."
   ]
  },
  {
   "cell_type": "code",
   "execution_count": 4,
   "id": "993667f2-f477-43e6-b296-923654754bed",
   "metadata": {},
   "outputs": [
    {
     "name": "stdout",
     "output_type": "stream",
     "text": [
      "Number of relationships:  73954\n"
     ]
    }
   ],
   "source": [
    "result = conn.query('MATCH ()-[r]->() RETURN COUNT(r) AS count')\n",
    "\n",
    "print('Number of relationships: ', result[0]['count'])"
   ]
  },
  {
   "cell_type": "markdown",
   "id": "49e6ef78-7729-4360-b4bf-37d495296be0",
   "metadata": {},
   "source": [
    "### Measure the inDegree of flight routes"
   ]
  },
  {
   "cell_type": "code",
   "execution_count": 15,
   "id": "0dc86982-8f0c-41e8-b5df-4bd1085feac8",
   "metadata": {},
   "outputs": [
    {
     "data": {
      "text/html": [
       "<div>\n",
       "<style scoped>\n",
       "    .dataframe tbody tr th:only-of-type {\n",
       "        vertical-align: middle;\n",
       "    }\n",
       "\n",
       "    .dataframe tbody tr th {\n",
       "        vertical-align: top;\n",
       "    }\n",
       "\n",
       "    .dataframe thead th {\n",
       "        text-align: right;\n",
       "    }\n",
       "</style>\n",
       "<table border=\"1\" class=\"dataframe\">\n",
       "  <thead>\n",
       "    <tr style=\"text-align: right;\">\n",
       "      <th></th>\n",
       "      <th>a.city</th>\n",
       "      <th>in_degree</th>\n",
       "    </tr>\n",
       "  </thead>\n",
       "  <tbody>\n",
       "    <tr>\n",
       "      <th>0</th>\n",
       "      <td>Frankfurt</td>\n",
       "      <td>303</td>\n",
       "    </tr>\n",
       "    <tr>\n",
       "      <th>1</th>\n",
       "      <td>Paris</td>\n",
       "      <td>291</td>\n",
       "    </tr>\n",
       "    <tr>\n",
       "      <th>2</th>\n",
       "      <td>Amsterdam</td>\n",
       "      <td>280</td>\n",
       "    </tr>\n",
       "    <tr>\n",
       "      <th>3</th>\n",
       "      <td>Istanbul</td>\n",
       "      <td>268</td>\n",
       "    </tr>\n",
       "    <tr>\n",
       "      <th>4</th>\n",
       "      <td>Munich</td>\n",
       "      <td>265</td>\n",
       "    </tr>\n",
       "    <tr>\n",
       "      <th>5</th>\n",
       "      <td>Chicago</td>\n",
       "      <td>257</td>\n",
       "    </tr>\n",
       "    <tr>\n",
       "      <th>6</th>\n",
       "      <td>Dallas</td>\n",
       "      <td>248</td>\n",
       "    </tr>\n",
       "    <tr>\n",
       "      <th>7</th>\n",
       "      <td>Atlanta</td>\n",
       "      <td>242</td>\n",
       "    </tr>\n",
       "    <tr>\n",
       "      <th>8</th>\n",
       "      <td>Dubai</td>\n",
       "      <td>237</td>\n",
       "    </tr>\n",
       "    <tr>\n",
       "      <th>9</th>\n",
       "      <td>London</td>\n",
       "      <td>226</td>\n",
       "    </tr>\n",
       "  </tbody>\n",
       "</table>\n",
       "</div>"
      ],
      "text/plain": [
       "      a.city  in_degree\n",
       "0  Frankfurt        303\n",
       "1      Paris        291\n",
       "2  Amsterdam        280\n",
       "3   Istanbul        268\n",
       "4     Munich        265\n",
       "5    Chicago        257\n",
       "6     Dallas        248\n",
       "7    Atlanta        242\n",
       "8      Dubai        237\n",
       "9     London        226"
      ]
     },
     "execution_count": 15,
     "metadata": {},
     "output_type": "execute_result"
    }
   ],
   "source": [
    "in_degree_query = \"\"\"MATCH (a:Airport)\n",
    "                     WITH a, SIZE(()-[:HAS_ROUTE]->(a)) AS in_degree\n",
    "                     RETURN a.city, in_degree\n",
    "                     ORDER BY in_degree DESC\n",
    "                     LIMIT 10\n",
    "                  \"\"\"\n",
    "\n",
    "in_degree_df = pd.DataFrame([dict(_) for _ in conn.query(in_degree_query)])\n",
    "in_degree_df.head(10)"
   ]
  },
  {
   "cell_type": "markdown",
   "id": "01d79bfe-0ee4-4d3f-b224-fe5a4283c69f",
   "metadata": {},
   "source": [
    "### Measure the total degree of flight routes"
   ]
  },
  {
   "cell_type": "code",
   "execution_count": 16,
   "id": "70e8dced-6863-40ce-9a48-8d8df44fd60c",
   "metadata": {},
   "outputs": [
    {
     "data": {
      "text/html": [
       "<div>\n",
       "<style scoped>\n",
       "    .dataframe tbody tr th:only-of-type {\n",
       "        vertical-align: middle;\n",
       "    }\n",
       "\n",
       "    .dataframe tbody tr th {\n",
       "        vertical-align: top;\n",
       "    }\n",
       "\n",
       "    .dataframe thead th {\n",
       "        text-align: right;\n",
       "    }\n",
       "</style>\n",
       "<table border=\"1\" class=\"dataframe\">\n",
       "  <thead>\n",
       "    <tr style=\"text-align: right;\">\n",
       "      <th></th>\n",
       "      <th>a.city</th>\n",
       "      <th>total_degree</th>\n",
       "    </tr>\n",
       "  </thead>\n",
       "  <tbody>\n",
       "    <tr>\n",
       "      <th>0</th>\n",
       "      <td>Frankfurt</td>\n",
       "      <td>610</td>\n",
       "    </tr>\n",
       "    <tr>\n",
       "      <th>1</th>\n",
       "      <td>Paris</td>\n",
       "      <td>584</td>\n",
       "    </tr>\n",
       "    <tr>\n",
       "      <th>2</th>\n",
       "      <td>Istanbul</td>\n",
       "      <td>575</td>\n",
       "    </tr>\n",
       "    <tr>\n",
       "      <th>3</th>\n",
       "      <td>Amsterdam</td>\n",
       "      <td>562</td>\n",
       "    </tr>\n",
       "    <tr>\n",
       "      <th>4</th>\n",
       "      <td>Munich</td>\n",
       "      <td>535</td>\n",
       "    </tr>\n",
       "    <tr>\n",
       "      <th>5</th>\n",
       "      <td>Chicago</td>\n",
       "      <td>521</td>\n",
       "    </tr>\n",
       "    <tr>\n",
       "      <th>6</th>\n",
       "      <td>Dallas</td>\n",
       "      <td>499</td>\n",
       "    </tr>\n",
       "    <tr>\n",
       "      <th>7</th>\n",
       "      <td>Dubai</td>\n",
       "      <td>484</td>\n",
       "    </tr>\n",
       "    <tr>\n",
       "      <th>8</th>\n",
       "      <td>Atlanta</td>\n",
       "      <td>484</td>\n",
       "    </tr>\n",
       "    <tr>\n",
       "      <th>9</th>\n",
       "      <td>Beijing</td>\n",
       "      <td>469</td>\n",
       "    </tr>\n",
       "  </tbody>\n",
       "</table>\n",
       "</div>"
      ],
      "text/plain": [
       "      a.city  total_degree\n",
       "0  Frankfurt           610\n",
       "1      Paris           584\n",
       "2   Istanbul           575\n",
       "3  Amsterdam           562\n",
       "4     Munich           535\n",
       "5    Chicago           521\n",
       "6     Dallas           499\n",
       "7      Dubai           484\n",
       "8    Atlanta           484\n",
       "9    Beijing           469"
      ]
     },
     "execution_count": 16,
     "metadata": {},
     "output_type": "execute_result"
    }
   ],
   "source": [
    "total_degree_query = \"\"\"MATCH (a:Airport)\n",
    "                        WITH a, SIZE(()-[:HAS_ROUTE]-(a)) AS total_degree\n",
    "                        RETURN a.city, total_degree\n",
    "                        ORDER BY total_degree DESC\n",
    "                        LIMIT 10\n",
    "                     \"\"\"\n",
    "\n",
    "total_degree_df = pd.DataFrame([dict(_) for _ in conn.query(total_degree_query)])\n",
    "total_degree_df.head(10)"
   ]
  },
  {
   "cell_type": "markdown",
   "id": "1c2c7084-db3f-4582-abbc-08bfe50f147d",
   "metadata": {},
   "source": [
    "### \"6 Degree of Kevin Bacon\"\n",
    "\n",
    "Let's look at how many airports are exactly 1, exactly 2, and then 1 or 2 hops from a target airport.  Be sure to compare this to the equivalent SQL queries!"
   ]
  },
  {
   "cell_type": "code",
   "execution_count": 18,
   "id": "0b729857-7512-4eed-9089-f7370eb0e67c",
   "metadata": {},
   "outputs": [
    {
     "name": "stdout",
     "output_type": "stream",
     "text": [
      "Number of airports within exactly 1 hop:  [<Record COUNT(DISTINCT a2)=216>]\n",
      "Number of airports within exactly 2 hops:  [<Record COUNT(DISTINCT a2)=1218>]\n",
      "Number of airports within 1 or 2 hops:  [<Record COUNT(DISTINCT a2)=1231>]\n"
     ]
    }
   ],
   "source": [
    "one_hop_query = \"MATCH (a:Airport {iata: 'DEN'})-[:HAS_ROUTE]->(a2) RETURN COUNT(DISTINCT a2)\"\n",
    "two_hop_query = \"MATCH (a:Airport {iata: 'DEN'})-[:HAS_ROUTE*2]->(a2) RETURN COUNT(DISTINCT a2)\"\n",
    "one_or_two_query = \"MATCH (a:Airport {iata: 'DEN'})-[:HAS_ROUTE*1..2]->(a2) RETURN COUNT(DISTINCT a2)\"\n",
    "\n",
    "print('Number of airports within exactly 1 hop: ', conn.query(one_hop_query))\n",
    "print('Number of airports within exactly 2 hops: ', conn.query(two_hop_query))\n",
    "print('Number of airports within 1 or 2 hops: ', conn.query(one_or_two_query))"
   ]
  },
  {
   "cell_type": "code",
   "execution_count": null,
   "id": "c7470716-b956-4f1f-8caa-62291f1e6fd6",
   "metadata": {},
   "outputs": [],
   "source": []
  }
 ],
 "metadata": {
  "kernelspec": {
   "display_name": "Python 3 (ipykernel)",
   "language": "python",
   "name": "python3"
  },
  "language_info": {
   "codemirror_mode": {
    "name": "ipython",
    "version": 3
   },
   "file_extension": ".py",
   "mimetype": "text/x-python",
   "name": "python",
   "nbconvert_exporter": "python",
   "pygments_lexer": "ipython3",
   "version": "3.9.7"
  }
 },
 "nbformat": 4,
 "nbformat_minor": 5
}
