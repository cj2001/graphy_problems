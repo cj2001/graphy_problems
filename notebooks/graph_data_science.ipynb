{
 "cells": [
  {
   "cell_type": "code",
   "execution_count": 18,
   "id": "503dcc53-ff97-4ef4-87f4-e039b510c107",
   "metadata": {},
   "outputs": [],
   "source": [
    "import pandas as pd\n",
    "from neo4j import GraphDatabase\n",
    "\n",
    "pd.options.display.max_rows = 200\n",
    "pd.options.display.max_columns = 500"
   ]
  },
  {
   "cell_type": "markdown",
   "id": "120e12be-3fc2-40f6-810d-f34656b97165",
   "metadata": {},
   "source": [
    "## Establish the connection to our Sandbox\n",
    "\n",
    "The following class will handle the connection and queries for us.  We will need to get the IP address of our Sandbox instance as well as the password and provide these in the subsequent cell.\n",
    "\n",
    "Prior to running this notebook you should have populated the database using the queries in `./cypher_queries/populate_db.cql`."
   ]
  },
  {
   "cell_type": "code",
   "execution_count": 2,
   "id": "e05679ce-b5ee-4fd1-9b5a-b934a3fc9725",
   "metadata": {},
   "outputs": [],
   "source": [
    "class Neo4jConnection:\n",
    "    \n",
    "    def __init__(self, uri, user, pwd):\n",
    "        self.__uri = uri\n",
    "        self.__user = user\n",
    "        self.__pwd = pwd\n",
    "        self.__driver = None\n",
    "        try:\n",
    "            self.__driver = GraphDatabase.driver(self.__uri, auth=(self.__user, self.__pwd))\n",
    "        except Exception as e:\n",
    "            print(\"Failed to create the driver:\", e)\n",
    "        \n",
    "    def close(self):\n",
    "        if self.__driver is not None:\n",
    "            self.__driver.close()\n",
    "        \n",
    "    def query(self, query, parameters=None, db=None):\n",
    "        assert self.__driver is not None, \"Driver not initialized!\"\n",
    "        session = None\n",
    "        response = None\n",
    "        try: \n",
    "            session = self.__driver.session(database=db) if db is not None else self.__driver.session() \n",
    "            response = list(session.run(query, parameters))\n",
    "        except Exception as e:\n",
    "            print(\"Query failed:\", e)\n",
    "        finally: \n",
    "            if session is not None:\n",
    "                session.close()\n",
    "        return response"
   ]
  },
  {
   "cell_type": "code",
   "execution_count": 4,
   "id": "b67e37b2-392f-4f74-9e55-abddf0926fd3",
   "metadata": {},
   "outputs": [
    {
     "data": {
      "text/plain": [
       "[<Record count=8627>]"
      ]
     },
     "execution_count": 4,
     "metadata": {},
     "output_type": "execute_result"
    }
   ],
   "source": [
    "uri = ''\n",
    "pwd = ''\n",
    "\n",
    "conn = Neo4jConnection(uri=uri, user=\"neo4j\", pwd=pwd)\n",
    "conn.query('MATCH (n) RETURN COUNT(n) AS count')"
   ]
  },
  {
   "cell_type": "markdown",
   "id": "f587b91a-727d-472e-8420-af2b3c601a04",
   "metadata": {},
   "source": [
    "## Creating a graph projection\n",
    "\n"
   ]
  },
  {
   "cell_type": "code",
   "execution_count": 6,
   "id": "c3cb12e5-9374-4fee-9e39-b6c0eda4574b",
   "metadata": {},
   "outputs": [
    {
     "data": {
      "text/plain": [
       "[<Record graphName='routes' nodeProjection={'Airport': {'label': 'Airport', 'properties': {}}} nodeCount=3503 relationshipProjection={'HAS_ROUTE': {'orientation': 'NATURAL', 'aggregation': 'DEFAULT', 'type': 'HAS_ROUTE', 'properties': {}}} relationshipCount=46389>]"
      ]
     },
     "execution_count": 6,
     "metadata": {},
     "output_type": "execute_result"
    }
   ],
   "source": [
    "projection_query = \"\"\"CALL gds.graph.create(\n",
    "                      'routes',\n",
    "                      'Airport',\n",
    "                      'HAS_ROUTE'\n",
    "                      )\n",
    "                      YIELD\n",
    "                          graphName, nodeProjection, nodeCount, relationshipProjection, relationshipCount\n",
    "                    \"\"\"\n",
    "\n",
    "conn.query(projection_query)"
   ]
  },
  {
   "cell_type": "markdown",
   "id": "777bbd4e-b738-4cf6-b129-3c5eecb625dc",
   "metadata": {},
   "source": [
    "## PageRank\n",
    "\n",
    "Recall how this was calculated in SQL???"
   ]
  },
  {
   "cell_type": "code",
   "execution_count": 7,
   "id": "03c520fd-3132-4919-a464-2fc3c38ed3c2",
   "metadata": {},
   "outputs": [
    {
     "data": {
      "text/html": [
       "<div>\n",
       "<style scoped>\n",
       "    .dataframe tbody tr th:only-of-type {\n",
       "        vertical-align: middle;\n",
       "    }\n",
       "\n",
       "    .dataframe tbody tr th {\n",
       "        vertical-align: top;\n",
       "    }\n",
       "\n",
       "    .dataframe thead th {\n",
       "        text-align: right;\n",
       "    }\n",
       "</style>\n",
       "<table border=\"1\" class=\"dataframe\">\n",
       "  <thead>\n",
       "    <tr style=\"text-align: right;\">\n",
       "      <th></th>\n",
       "      <th>iata</th>\n",
       "      <th>description</th>\n",
       "      <th>score</th>\n",
       "    </tr>\n",
       "  </thead>\n",
       "  <tbody>\n",
       "    <tr>\n",
       "      <th>0</th>\n",
       "      <td>DFW</td>\n",
       "      <td>Dallas/Fort Worth International Airport</td>\n",
       "      <td>11.979783</td>\n",
       "    </tr>\n",
       "    <tr>\n",
       "      <th>1</th>\n",
       "      <td>ORD</td>\n",
       "      <td>Chicago O'Hare International Airport</td>\n",
       "      <td>11.162988</td>\n",
       "    </tr>\n",
       "    <tr>\n",
       "      <th>2</th>\n",
       "      <td>DEN</td>\n",
       "      <td>Denver International Airport</td>\n",
       "      <td>10.997299</td>\n",
       "    </tr>\n",
       "    <tr>\n",
       "      <th>3</th>\n",
       "      <td>ATL</td>\n",
       "      <td>Hartsfield - Jackson Atlanta International Air...</td>\n",
       "      <td>10.389948</td>\n",
       "    </tr>\n",
       "    <tr>\n",
       "      <th>4</th>\n",
       "      <td>IST</td>\n",
       "      <td>Istanbul International Airport</td>\n",
       "      <td>8.425801</td>\n",
       "    </tr>\n",
       "  </tbody>\n",
       "</table>\n",
       "</div>"
      ],
      "text/plain": [
       "  iata                                        description      score\n",
       "0  DFW            Dallas/Fort Worth International Airport  11.979783\n",
       "1  ORD               Chicago O'Hare International Airport  11.162988\n",
       "2  DEN                       Denver International Airport  10.997299\n",
       "3  ATL  Hartsfield - Jackson Atlanta International Air...  10.389948\n",
       "4  IST                     Istanbul International Airport   8.425801"
      ]
     },
     "execution_count": 7,
     "metadata": {},
     "output_type": "execute_result"
    }
   ],
   "source": [
    "pagerank_query = \"\"\"CALL gds.pageRank.stream('routes')\n",
    "                    YIELD nodeId, score\n",
    "                    RETURN gds.util.asNode(nodeId).iata AS iata, \n",
    "                        gds.util.asNode(nodeId).descr AS description, score\n",
    "                    ORDER BY score DESC, iata ASC\n",
    "                    \"\"\"\n",
    "\n",
    "pr_df = pd.DataFrame([dict(_) for _ in conn.query(pagerank_query)])\n",
    "pr_df.head()"
   ]
  },
  {
   "cell_type": "code",
   "execution_count": 10,
   "id": "7d8efa27-4661-4b15-a0a1-c860edbe857a",
   "metadata": {},
   "outputs": [
    {
     "data": {
      "text/plain": [
       "[<Record nodePropertiesWritten=3503 ranIterations=20>]"
      ]
     },
     "execution_count": 10,
     "metadata": {},
     "output_type": "execute_result"
    }
   ],
   "source": [
    "pagerank_write_query = \"\"\"CALL gds.pageRank.write('routes', \n",
    "                            {\n",
    "                                writeProperty: 'pagerank'\n",
    "                            }\n",
    "                          )\n",
    "                          YIELD nodePropertiesWritten, ranIterations\n",
    "                          \"\"\"\n",
    "\n",
    "conn.query(pagerank_write_query)"
   ]
  },
  {
   "cell_type": "markdown",
   "id": "d6304ac8-62ad-4267-927b-6333e9353fdb",
   "metadata": {},
   "source": [
    "## Path finding (Dijkstra's algorithm for shortest path)\n",
    "\n",
    "Remember that whole packages (ex: pgRouting) exist to do this in SQL.  Why?  Because it is not trivial!"
   ]
  },
  {
   "cell_type": "code",
   "execution_count": 13,
   "id": "5a59e12a-1393-456e-bc1c-baefe1564498",
   "metadata": {},
   "outputs": [
    {
     "data": {
      "text/plain": [
       "[<Record nodeProjection={'Airport': {'label': 'Airport', 'properties': {}}} relationshipProjection={'HAS_ROUTE': {'orientation': 'NATURAL', 'aggregation': 'DEFAULT', 'type': 'HAS_ROUTE', 'properties': {'distance': {'defaultValue': None, 'property': 'distance', 'aggregation': 'DEFAULT'}}}} graphName='routes-weighted' nodeCount=3503 relationshipCount=46389 createMillis=170>]"
      ]
     },
     "execution_count": 13,
     "metadata": {},
     "output_type": "execute_result"
    }
   ],
   "source": [
    "weighted_proj_query = \"\"\"CALL gds.graph.create(\n",
    "                              'routes-weighted',\n",
    "                              'Airport',\n",
    "                              'HAS_ROUTE',\n",
    "                                  {\n",
    "                                      relationshipProperties: 'distance'\n",
    "                                  }\n",
    "                          )\n",
    "                      \"\"\"\n",
    "\n",
    "conn.query(weighted_proj_query)"
   ]
  },
  {
   "cell_type": "code",
   "execution_count": 14,
   "id": "057b6f58-2567-47c5-9e4c-3a9db9e6765e",
   "metadata": {},
   "outputs": [
    {
     "data": {
      "text/html": [
       "<div>\n",
       "<style scoped>\n",
       "    .dataframe tbody tr th:only-of-type {\n",
       "        vertical-align: middle;\n",
       "    }\n",
       "\n",
       "    .dataframe tbody tr th {\n",
       "        vertical-align: top;\n",
       "    }\n",
       "\n",
       "    .dataframe thead th {\n",
       "        text-align: right;\n",
       "    }\n",
       "</style>\n",
       "<table border=\"1\" class=\"dataframe\">\n",
       "  <thead>\n",
       "    <tr style=\"text-align: right;\">\n",
       "      <th></th>\n",
       "      <th>index</th>\n",
       "      <th>sourceNodeName</th>\n",
       "      <th>targetNodeName</th>\n",
       "      <th>totalCost</th>\n",
       "      <th>nodeNames</th>\n",
       "      <th>costs</th>\n",
       "      <th>path</th>\n",
       "    </tr>\n",
       "  </thead>\n",
       "  <tbody>\n",
       "    <tr>\n",
       "      <th>0</th>\n",
       "      <td>0</td>\n",
       "      <td>DEN</td>\n",
       "      <td>MLE</td>\n",
       "      <td>9704.0</td>\n",
       "      <td>[DEN, KEF, HEL, VKO, MLE]</td>\n",
       "      <td>[0.0, 3556.0, 5074.0, 5629.0, 9704.0]</td>\n",
       "      <td>[(altitude, descr, longest, iata, city, icao, ...</td>\n",
       "    </tr>\n",
       "  </tbody>\n",
       "</table>\n",
       "</div>"
      ],
      "text/plain": [
       "   index sourceNodeName targetNodeName  totalCost                  nodeNames  \\\n",
       "0      0            DEN            MLE     9704.0  [DEN, KEF, HEL, VKO, MLE]   \n",
       "\n",
       "                                   costs  \\\n",
       "0  [0.0, 3556.0, 5074.0, 5629.0, 9704.0]   \n",
       "\n",
       "                                                path  \n",
       "0  [(altitude, descr, longest, iata, city, icao, ...  "
      ]
     },
     "execution_count": 14,
     "metadata": {},
     "output_type": "execute_result"
    }
   ],
   "source": [
    "sp_query = \"\"\"MATCH (source:Airport {iata: 'DEN'}), (target:Airport {iata: 'MLE'})\n",
    "              CALL gds.shortestPath.dijkstra.stream('routes-weighted', {\n",
    "                  sourceNode: source,\n",
    "                  targetNode: target,\n",
    "                  relationshipWeightProperty: 'distance'\n",
    "              })\n",
    "              YIELD index, sourceNode, targetNode, totalCost, nodeIds, costs, path\n",
    "              RETURN\n",
    "                  index,\n",
    "                  gds.util.asNode(sourceNode).iata AS sourceNodeName,\n",
    "                  gds.util.asNode(targetNode).iata AS targetNodeName,\n",
    "                  totalCost,\n",
    "                  [nodeId IN nodeIds | gds.util.asNode(nodeId).iata] AS nodeNames,\n",
    "                  costs,\n",
    "                  nodes(path) as path\n",
    "              ORDER BY index\n",
    "              \"\"\"\n",
    "\n",
    "sp_df = pd.DataFrame([dict(_) for _ in conn.query(sp_query)])\n",
    "sp_df.head(10)"
   ]
  },
  {
   "cell_type": "markdown",
   "id": "5197a02b-a111-4e28-84d1-6048def0c00b",
   "metadata": {},
   "source": [
    "## Clustering (Louvain)"
   ]
  },
  {
   "cell_type": "code",
   "execution_count": 19,
   "id": "ed0e0137-9dd4-4d35-85ff-db22ada4fc60",
   "metadata": {},
   "outputs": [
    {
     "data": {
      "text/html": [
       "<div>\n",
       "<style scoped>\n",
       "    .dataframe tbody tr th:only-of-type {\n",
       "        vertical-align: middle;\n",
       "    }\n",
       "\n",
       "    .dataframe tbody tr th {\n",
       "        vertical-align: top;\n",
       "    }\n",
       "\n",
       "    .dataframe thead th {\n",
       "        text-align: right;\n",
       "    }\n",
       "</style>\n",
       "<table border=\"1\" class=\"dataframe\">\n",
       "  <thead>\n",
       "    <tr style=\"text-align: right;\">\n",
       "      <th></th>\n",
       "      <th>communityId</th>\n",
       "      <th>number_of_airports</th>\n",
       "      <th>city</th>\n",
       "    </tr>\n",
       "  </thead>\n",
       "  <tbody>\n",
       "    <tr>\n",
       "      <th>0</th>\n",
       "      <td>3282</td>\n",
       "      <td>695</td>\n",
       "      <td>[Atlanta, Anchorage, Austin, Nashville, Boston...</td>\n",
       "    </tr>\n",
       "    <tr>\n",
       "      <th>1</th>\n",
       "      <td>2294</td>\n",
       "      <td>497</td>\n",
       "      <td>[London, London, Paris, Frankfurt, Helsinki, D...</td>\n",
       "    </tr>\n",
       "    <tr>\n",
       "      <th>2</th>\n",
       "      <td>2784</td>\n",
       "      <td>418</td>\n",
       "      <td>[Dubai, New Delhi, Mumbai, Doha, Calicut, Hyde...</td>\n",
       "    </tr>\n",
       "    <tr>\n",
       "      <th>3</th>\n",
       "      <td>2980</td>\n",
       "      <td>254</td>\n",
       "      <td>[Tokyo, Singapore, Melbourne, Hong Kong, Beiji...</td>\n",
       "    </tr>\n",
       "    <tr>\n",
       "      <th>4</th>\n",
       "      <td>3260</td>\n",
       "      <td>181</td>\n",
       "      <td>[Sydney, Perth, Auckland, Wellington, Brisbane...</td>\n",
       "    </tr>\n",
       "  </tbody>\n",
       "</table>\n",
       "</div>"
      ],
      "text/plain": [
       "   communityId  number_of_airports  \\\n",
       "0         3282                 695   \n",
       "1         2294                 497   \n",
       "2         2784                 418   \n",
       "3         2980                 254   \n",
       "4         3260                 181   \n",
       "\n",
       "                                                city  \n",
       "0  [Atlanta, Anchorage, Austin, Nashville, Boston...  \n",
       "1  [London, London, Paris, Frankfurt, Helsinki, D...  \n",
       "2  [Dubai, New Delhi, Mumbai, Doha, Calicut, Hyde...  \n",
       "3  [Tokyo, Singapore, Melbourne, Hong Kong, Beiji...  \n",
       "4  [Sydney, Perth, Auckland, Wellington, Brisbane...  "
      ]
     },
     "execution_count": 19,
     "metadata": {},
     "output_type": "execute_result"
    }
   ],
   "source": [
    "louvain_query = \"\"\"CALL gds.louvain.stream('routes')\n",
    "                   YIELD nodeId, communityId\n",
    "                   RETURN \n",
    "                       communityId,\n",
    "                       SIZE(COLLECT(gds.util.asNode(nodeId).iata)) AS number_of_airports,\n",
    "                       COLLECT(gds.util.asNode(nodeId).city) AS city\n",
    "                   ORDER BY number_of_airports DESC, communityId\n",
    "                   \"\"\"\n",
    "\n",
    "louvain_df = pd.DataFrame([dict(_) for _ in conn.query(louvain_query)])\n",
    "louvain_df.head()"
   ]
  },
  {
   "cell_type": "markdown",
   "id": "6e82a537-7121-4f6a-aea2-30b71df703a4",
   "metadata": {},
   "source": [
    "## Node similarity"
   ]
  },
  {
   "cell_type": "code",
   "execution_count": 21,
   "id": "1e349a94-a775-463d-b512-7655de6e2cb3",
   "metadata": {},
   "outputs": [
    {
     "data": {
      "text/html": [
       "<div>\n",
       "<style scoped>\n",
       "    .dataframe tbody tr th:only-of-type {\n",
       "        vertical-align: middle;\n",
       "    }\n",
       "\n",
       "    .dataframe tbody tr th {\n",
       "        vertical-align: top;\n",
       "    }\n",
       "\n",
       "    .dataframe thead th {\n",
       "        text-align: right;\n",
       "    }\n",
       "</style>\n",
       "<table border=\"1\" class=\"dataframe\">\n",
       "  <thead>\n",
       "    <tr style=\"text-align: right;\">\n",
       "      <th></th>\n",
       "      <th>City1</th>\n",
       "      <th>City2</th>\n",
       "      <th>similarity</th>\n",
       "    </tr>\n",
       "  </thead>\n",
       "  <tbody>\n",
       "    <tr>\n",
       "      <th>0</th>\n",
       "      <td>Santa Fe</td>\n",
       "      <td>[Flagstaff, Durango, Yuma]</td>\n",
       "      <td>[1.0, 1.0, 0.75]</td>\n",
       "    </tr>\n",
       "    <tr>\n",
       "      <th>1</th>\n",
       "      <td>Manhattan</td>\n",
       "      <td>[Sioux City, Champaign/Urbana, Columbia]</td>\n",
       "      <td>[1.0, 0.6666666666666666, 0.6666666666666666]</td>\n",
       "    </tr>\n",
       "    <tr>\n",
       "      <th>2</th>\n",
       "      <td>Monroe</td>\n",
       "      <td>[Fort Hood/Killeen, Alexandria, Fort Smith]</td>\n",
       "      <td>[1.0, 1.0, 0.6666666666666666]</td>\n",
       "    </tr>\n",
       "    <tr>\n",
       "      <th>3</th>\n",
       "      <td>San Angelo</td>\n",
       "      <td>[Abilene, Waco, Texarkana]</td>\n",
       "      <td>[1.0, 1.0, 1.0]</td>\n",
       "    </tr>\n",
       "    <tr>\n",
       "      <th>4</th>\n",
       "      <td>Wichita Falls</td>\n",
       "      <td>[Abilene, Waco, Texarkana]</td>\n",
       "      <td>[1.0, 1.0, 1.0]</td>\n",
       "    </tr>\n",
       "    <tr>\n",
       "      <th>5</th>\n",
       "      <td>Tyler</td>\n",
       "      <td>[Lake Charles, College Station, Brownsville]</td>\n",
       "      <td>[1.0, 1.0, 0.6666666666666666]</td>\n",
       "    </tr>\n",
       "    <tr>\n",
       "      <th>6</th>\n",
       "      <td>Burlington</td>\n",
       "      <td>[Quincy, Decatur, Cape Girardeau, Greensboro, ...</td>\n",
       "      <td>[1.0, 1.0, 0.6666666666666666, 0.6666666666666...</td>\n",
       "    </tr>\n",
       "    <tr>\n",
       "      <th>7</th>\n",
       "      <td>Florence</td>\n",
       "      <td>[Greenville, Lynchburg, Staunton/Waynesboro/Ha...</td>\n",
       "      <td>[1.0, 1.0, 0.5]</td>\n",
       "    </tr>\n",
       "    <tr>\n",
       "      <th>8</th>\n",
       "      <td>Topeka</td>\n",
       "      <td>[Hancock, Dubuque, Waterloo]</td>\n",
       "      <td>[1.0, 1.0, 1.0]</td>\n",
       "    </tr>\n",
       "    <tr>\n",
       "      <th>9</th>\n",
       "      <td>Marquette</td>\n",
       "      <td>[La Crosse, Mosinee, Saginaw]</td>\n",
       "      <td>[1.0, 1.0, 0.75]</td>\n",
       "    </tr>\n",
       "  </tbody>\n",
       "</table>\n",
       "</div>"
      ],
      "text/plain": [
       "           City1                                              City2  \\\n",
       "0       Santa Fe                         [Flagstaff, Durango, Yuma]   \n",
       "1      Manhattan           [Sioux City, Champaign/Urbana, Columbia]   \n",
       "2         Monroe        [Fort Hood/Killeen, Alexandria, Fort Smith]   \n",
       "3     San Angelo                         [Abilene, Waco, Texarkana]   \n",
       "4  Wichita Falls                         [Abilene, Waco, Texarkana]   \n",
       "5          Tyler       [Lake Charles, College Station, Brownsville]   \n",
       "6     Burlington  [Quincy, Decatur, Cape Girardeau, Greensboro, ...   \n",
       "7       Florence  [Greenville, Lynchburg, Staunton/Waynesboro/Ha...   \n",
       "8         Topeka                       [Hancock, Dubuque, Waterloo]   \n",
       "9      Marquette                      [La Crosse, Mosinee, Saginaw]   \n",
       "\n",
       "                                          similarity  \n",
       "0                                   [1.0, 1.0, 0.75]  \n",
       "1      [1.0, 0.6666666666666666, 0.6666666666666666]  \n",
       "2                     [1.0, 1.0, 0.6666666666666666]  \n",
       "3                                    [1.0, 1.0, 1.0]  \n",
       "4                                    [1.0, 1.0, 1.0]  \n",
       "5                     [1.0, 1.0, 0.6666666666666666]  \n",
       "6  [1.0, 1.0, 0.6666666666666666, 0.6666666666666...  \n",
       "7                                    [1.0, 1.0, 0.5]  \n",
       "8                                    [1.0, 1.0, 1.0]  \n",
       "9                                   [1.0, 1.0, 0.75]  "
      ]
     },
     "execution_count": 21,
     "metadata": {},
     "output_type": "execute_result"
    }
   ],
   "source": [
    "ns_query = \"\"\"CALL gds.nodeSimilarity.stream(\n",
    "                   'routes',\n",
    "                   {\n",
    "                       topK: 3\n",
    "                   }\n",
    "               )\n",
    "               YIELD node1, node2, similarity\n",
    "               RETURN \n",
    "                   gds.util.asNode(node1).city AS City1, \n",
    "                   COLLECT(gds.util.asNode(node2).city) AS City2, \n",
    "                   COLLECT(similarity) AS similarity\n",
    "               ORDER BY similarity[0] DESC\n",
    "               \"\"\"\n",
    "\n",
    "ns_df = pd.DataFrame([dict(_) for _ in conn.query(ns_query)])\n",
    "ns_df.head(10)"
   ]
  },
  {
   "cell_type": "code",
   "execution_count": null,
   "id": "3c8cc002-537b-4502-ad1c-8f36265ef05d",
   "metadata": {},
   "outputs": [],
   "source": []
  }
 ],
 "metadata": {
  "kernelspec": {
   "display_name": "Python 3 (ipykernel)",
   "language": "python",
   "name": "python3"
  },
  "language_info": {
   "codemirror_mode": {
    "name": "ipython",
    "version": 3
   },
   "file_extension": ".py",
   "mimetype": "text/x-python",
   "name": "python",
   "nbconvert_exporter": "python",
   "pygments_lexer": "ipython3",
   "version": "3.9.7"
  }
 },
 "nbformat": 4,
 "nbformat_minor": 5
}
